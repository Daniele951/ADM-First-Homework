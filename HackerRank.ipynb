{
 "cells": [
  {
   "cell_type": "code",
   "execution_count": null,
   "id": "1232b77f",
   "metadata": {},
   "outputs": [],
   "source": [
    "#HackerRank Introduction 1 \n",
    "print(Hello, World!)"
   ]
  },
  {
   "cell_type": "code",
   "execution_count": 55,
   "id": "49a5fb46",
   "metadata": {},
   "outputs": [
    {
     "name": "stdout",
     "output_type": "stream",
     "text": [
      "62\n",
      "Not Weird\n"
     ]
    }
   ],
   "source": [
    "#HackerRank Introduction 2\n",
    "\n",
    "import math\n",
    "import os\n",
    "import random\n",
    "import re\n",
    "import sys\n",
    "\n",
    "\n",
    "\n",
    "if __name__ == '__main__':\n",
    "    n = int(input().strip())\n",
    " \n",
    "    if n % 2 == 1 : \n",
    "        print(\"Weird\")\n",
    "\n",
    "    elif n < 5 :\n",
    "        print(\"Not Weird\")\n",
    "\n",
    "\n",
    "    elif  ((n>5) and (n<21)) :\n",
    "        print(\"Weird\")\n",
    "\n",
    "    elif n > 21:\n",
    "        print(\"Not Weird\")"
   ]
  },
  {
   "cell_type": "code",
   "execution_count": null,
   "id": "52875e96",
   "metadata": {},
   "outputs": [],
   "source": [
    "#HackerRank Introduction 3\n",
    "if __name__ == '__main__':\n",
    "    a = int(input())\n",
    "    b = int(input())\n",
    "    print(a + b)\n",
    "    print(a - b)\n",
    "    print(a * b)"
   ]
  },
  {
   "cell_type": "code",
   "execution_count": null,
   "id": "d70e4124",
   "metadata": {},
   "outputs": [],
   "source": [
    "#HackerRank Introduction 4\n",
    "if __name__ == '__main__':\n",
    "    a = int(input())\n",
    "    b = int(input())\n",
    "    print(a + b)\n",
    "    print(a - b)\n",
    "    print(a * b)"
   ]
  },
  {
   "cell_type": "code",
   "execution_count": null,
   "id": "75e19a0c",
   "metadata": {},
   "outputs": [],
   "source": [
    "#HackerRank Introduction 5\n",
    "if __name__ == '__main__':\n",
    "    n = int(input())\n",
    "i == 0\n",
    "for i < n:\n",
    "    print(i**i)\n",
    "    i+=1"
   ]
  },
  {
   "cell_type": "code",
   "execution_count": null,
   "id": "5b4e3c49",
   "metadata": {},
   "outputs": [],
   "source": [
    "#HackerRank Introduction 6\n",
    "def is_leap(x):      \n",
    "\n",
    "    if x % 4 == 0:\n",
    "        if x % 100 == 0:\n",
    "            if x % 400 == 0: \n",
    "                leap = True\n",
    "            else: leap = False\n",
    "        else: leap = True\n",
    "    else: leap = False\n",
    "    return leap   \n",
    "          \n",
    "year = int(input())\n",
    "print(is_leap(year))"
   ]
  },
  {
   "cell_type": "code",
   "execution_count": null,
   "id": "b5ab9a2b",
   "metadata": {},
   "outputs": [],
   "source": [
    "#HackerRank Introduction 7\n",
    "#Looked at the tutorial in hackerrank\n",
    "\n",
    "\n",
    "\n",
    "\n",
    "\n",
    "\n",
    "import math\n",
    "import os\n",
    "import random\n",
    "import re\n",
    "import sys\n",
    "\n",
    "if __name__ == '__main__':\n",
    "    n = int(input())\n",
    "\n",
    "    if n >1:\n",
    "        for (i) in range(n):\n",
    "            print( i + 1, end = '')"
   ]
  },
  {
   "cell_type": "code",
   "execution_count": 11,
   "id": "ffd9b806",
   "metadata": {},
   "outputs": [
    {
     "name": "stdout",
     "output_type": "stream",
     "text": [
      "1\n",
      "1\n",
      "1\n",
      "2\n",
      "[0]\n",
      "[0]\n",
      "[0]\n",
      "[[0, 0, 0]]\n"
     ]
    }
   ],
   "source": [
    "#HackerRank Data Type 1\n",
    "#Looked at the tutorial in hackerrank\n",
    "\n",
    "if __name__ == '__main__':\n",
    "    x = int(input())\n",
    "    y = int(input())\n",
    "    z = int(input())\n",
    "    n = int(input())\n",
    "    asse_i=[]\n",
    "    asse_j=[]\n",
    "    asse_k=[]\n",
    "    permutation_ijk=[]\n",
    "    for i in range(x+1):        \n",
    "        asse_i.append(i)\n",
    "    for i in range(y+1):\n",
    "        asse_j.append(i)\n",
    "    for i in range(z+1):\n",
    "        asse_k.append(i)\n",
    "    for x in asse_i:\n",
    "        for y in asse_j:\n",
    "            for z in asse_k:\n",
    "                  if (x+y+z)!=n:\n",
    "                          permutation_ijk.append([x,y,z])\n",
    "  \n",
    "    print(permutation_ijk)"
   ]
  },
  {
   "cell_type": "code",
   "execution_count": null,
   "id": "d4507ec1",
   "metadata": {},
   "outputs": [],
   "source": [
    "#HackerRank Data Type 2\n",
    "if __name__ == '__main__':\n",
    "    n = int(input())\n",
    "    arr = map(int, input().split())\n",
    "    scores_list= []\n",
    "    for x in arr:\n",
    "        scores_list.append(x)\n",
    "    scores_list.sort(reverse=True)\n",
    "    a = 0\n",
    "    for i in range(len(scores_list)): #To check if there are multiple max numbers equal to each other\n",
    "          \n",
    "            if scores_list[a] == scores_list[(a+1)]:\n",
    "                a+=1\n",
    "            else: break\n",
    "    print(scores_list[a+1])"
   ]
  },
  {
   "cell_type": "code",
   "execution_count": null,
   "id": "df92b584",
   "metadata": {},
   "outputs": [],
   "source": [
    "#HackerRank Data Type 3\n",
    "if __name__ == '__main__':\n",
    "    n = int(input())\n",
    "    student_marks = {}\n",
    "    for _ in range(n):\n",
    "        name, *line = input().split()\n",
    "        scores = list(map(float, line))\n",
    "        student_marks[name] = scores\n",
    "    query_name = input()\n",
    "average = 0\n",
    "for i in range(int(len(student_marks[query_name]))):\n",
    "    average += (student_marks[query_name][i]) \n",
    "average=average/ int(len(student_marks[query_name]))  \n",
    "average = \"{:.2f}\".format(average)\n",
    "print(average)\n",
    "    "
   ]
  },
  {
   "cell_type": "code",
   "execution_count": null,
   "id": "0d4e0c34",
   "metadata": {},
   "outputs": [],
   "source": []
  },
  {
   "cell_type": "code",
   "execution_count": null,
   "id": "67d656d0",
   "metadata": {},
   "outputs": [],
   "source": [
    "#HackerRank Data Type \n",
    "if __name__ == '__main__':\n",
    "    register_list=[]\n",
    "    for _ in range(int(input())):\n",
    "        name = input()\n",
    "        score = float(input())\n",
    "        register_list.append((name,score))\n",
    "               \n",
    "b = int(len(register_list))\n",
    "def takeSecond(elem):\n",
    "    return elem[1]\n",
    "register_list.sort(key=takeSecond)\n",
    "second_low = []\n",
    "control = 0\n",
    "for i in range (b-2):\n",
    "    if control == 0:\n",
    "        if register_list[i][1] != register_list[i+1][1]:\n",
    "            control = 1\n",
    "            second_low.append(register_list[i+1][0])\n",
    "        else: control = 0\n",
    "    if (((b-2)-i) == 1) and (not second_low):\n",
    "        second_low.append(register_list[i+2][0])\n",
    "    if control == 1:    \n",
    "            if register_list[i+1][1] == register_list[i+2][1]:\n",
    "                second_low.append(register_list[i+2][0])\n",
    "            else: break   \n",
    "   \n",
    "        \n",
    "            \n",
    "            \n",
    "            \n",
    "second_low.sort()\n",
    "print(\"\\n\".join(str(x) for x in second_low))\n",
    "    "
   ]
  },
  {
   "cell_type": "code",
   "execution_count": 21,
   "id": "fe6f6241",
   "metadata": {},
   "outputs": [
    {
     "name": "stdout",
     "output_type": "stream",
     "text": [
      "BanAssa FrrsDS\n",
      "[0, 0, 0, 0, 0, 0, 0, 0, 0, 0, 0, 0, 0, 0]\n"
     ]
    },
    {
     "ename": "TypeError",
     "evalue": "'str' object does not support item assignment",
     "output_type": "error",
     "traceback": [
      "\u001b[1;31m---------------------------------------------------------------------------\u001b[0m",
      "\u001b[1;31mTypeError\u001b[0m                                 Traceback (most recent call last)",
      "\u001b[1;32m<ipython-input-21-c6610d803b9e>\u001b[0m in \u001b[0;36m<module>\u001b[1;34m\u001b[0m\n\u001b[0;32m     14\u001b[0m     \u001b[0ms\u001b[0m \u001b[1;33m=\u001b[0m \u001b[1;34m\"BanAssa FrrsDS\"\u001b[0m\u001b[1;33m\u001b[0m\u001b[1;33m\u001b[0m\u001b[0m\n\u001b[0;32m     15\u001b[0m     \u001b[0mprint\u001b[0m\u001b[1;33m(\u001b[0m\u001b[0ms\u001b[0m\u001b[1;33m)\u001b[0m\u001b[1;33m\u001b[0m\u001b[1;33m\u001b[0m\u001b[0m\n\u001b[1;32m---> 16\u001b[1;33m     \u001b[0mresult\u001b[0m \u001b[1;33m=\u001b[0m \u001b[0mswap_case\u001b[0m\u001b[1;33m(\u001b[0m\u001b[0ms\u001b[0m\u001b[1;33m)\u001b[0m\u001b[1;33m\u001b[0m\u001b[1;33m\u001b[0m\u001b[0m\n\u001b[0m\u001b[0;32m     17\u001b[0m     \u001b[0mprint\u001b[0m\u001b[1;33m(\u001b[0m\u001b[0mresult\u001b[0m\u001b[1;33m)\u001b[0m\u001b[1;33m\u001b[0m\u001b[1;33m\u001b[0m\u001b[0m\n",
      "\u001b[1;32m<ipython-input-21-c6610d803b9e>\u001b[0m in \u001b[0;36mswap_case\u001b[1;34m(s)\u001b[0m\n\u001b[0;32m      8\u001b[0m                 \u001b[0ms\u001b[0m\u001b[1;33m[\u001b[0m\u001b[0mi\u001b[0m\u001b[1;33m]\u001b[0m\u001b[1;33m=\u001b[0m\u001b[0ms\u001b[0m\u001b[1;33m[\u001b[0m\u001b[0mi\u001b[0m\u001b[1;33m]\u001b[0m\u001b[1;33m.\u001b[0m\u001b[0mlower\u001b[0m\u001b[1;33m(\u001b[0m\u001b[1;33m)\u001b[0m\u001b[1;33m\u001b[0m\u001b[1;33m\u001b[0m\u001b[0m\n\u001b[0;32m      9\u001b[0m          \u001b[1;32melse\u001b[0m\u001b[1;33m:\u001b[0m\u001b[1;33m\u001b[0m\u001b[1;33m\u001b[0m\u001b[0m\n\u001b[1;32m---> 10\u001b[1;33m                 \u001b[0ms\u001b[0m\u001b[1;33m[\u001b[0m\u001b[0mi\u001b[0m\u001b[1;33m]\u001b[0m\u001b[1;33m=\u001b[0m\u001b[0ms\u001b[0m\u001b[1;33m[\u001b[0m\u001b[0mi\u001b[0m\u001b[1;33m]\u001b[0m\u001b[1;33m.\u001b[0m\u001b[0mupper\u001b[0m\u001b[1;33m(\u001b[0m\u001b[1;33m)\u001b[0m\u001b[1;33m\u001b[0m\u001b[1;33m\u001b[0m\u001b[0m\n\u001b[0m\u001b[0;32m     11\u001b[0m     \u001b[1;32mreturn\u001b[0m\u001b[1;33m\u001b[0m\u001b[1;33m\u001b[0m\u001b[0m\n\u001b[0;32m     12\u001b[0m \u001b[1;33m\u001b[0m\u001b[0m\n",
      "\u001b[1;31mTypeError\u001b[0m: 'str' object does not support item assignment"
     ]
    }
   ],
   "source": [
    "#HackerRank String 1 \n",
    "\n",
    "def swap_case(s):\n",
    "    s1 = s.swapcase()                                      \n",
    "    return s1\n",
    "\n",
    "if __name__ == '__main__':\n",
    "    s = input()\n",
    "    result = swap_case(s)\n",
    "    print(result)"
   ]
  },
  {
   "cell_type": "code",
   "execution_count": null,
   "id": "abb6d456",
   "metadata": {},
   "outputs": [],
   "source": [
    "#HackerRank String 2\n",
    "def split_and_join(line):\n",
    "    line_list=line.split(\" \")\n",
    "    line2=\"-\".join(line_list)\n",
    "    return line2\n",
    "if __name__ == '__main__':\n",
    "    line = input()\n",
    "    result = split_and_join(line)\n",
    "    print(result)"
   ]
  },
  {
   "cell_type": "code",
   "execution_count": null,
   "id": "b14e6f61",
   "metadata": {},
   "outputs": [],
   "source": [
    "#HackerRank String 3\n",
    "def print_full_name(first, last):\n",
    "    print(\"Hello\",first,last +\"!\",\"You just delved into python.\")\n",
    "\n",
    "if __name__ == '__main__':\n",
    "    first_name = input()\n",
    "    last_name = input()\n",
    "    print_full_name(first_name, last_name)"
   ]
  },
  {
   "cell_type": "code",
   "execution_count": null,
   "id": "e4cd8031",
   "metadata": {},
   "outputs": [],
   "source": [
    "#HackerRank String 3\n",
    "def mutate_string(string, position, character):\n",
    "    string = string[:position] + character + string[(position+1):]\n",
    "    return string\n",
    "\n",
    "if __name__ == '__main__':\n",
    "    s = input()\n",
    "    i, c = input().split()\n",
    "    s_new = mutate_string(s, int(i), c)\n",
    "    print(s_new)"
   ]
  },
  {
   "cell_type": "code",
   "execution_count": null,
   "id": "89ae6f0d",
   "metadata": {},
   "outputs": [],
   "source": [
    "#HackerRank String 4, founded on StackOverflow\n",
    "def count_substring(string, sub_string):\n",
    "    cnt = 0\n",
    "    idx = string.find(sub_string)\n",
    "    while idx >= 0:\n",
    "        cnt += 1\n",
    "        idx = string.find(sub_string, idx+1)\n",
    "    return cnt    \n",
    "\n",
    "if __name__ == '__main__':\n",
    "    string = input().strip()\n",
    "    sub_string = input().strip()\n",
    "    \n",
    "    count = count_substring(string, sub_string)\n",
    "    print(count)"
   ]
  },
  {
   "cell_type": "code",
   "execution_count": null,
   "id": "533f75b3",
   "metadata": {},
   "outputs": [],
   "source": [
    "#HackerRank String 5\n",
    "if __name__ == '__main__':\n",
    "    \n",
    "    s = input()\n",
    "    s_letter=''\n",
    "    a = 0\n",
    "    b = 0\n",
    "    c = 0\n",
    "    d = 0\n",
    "    e = 0\n",
    "    s_letters=list(s.strip(\" \"))\n",
    "    for i in range(len(s)):\n",
    "        s_letter= ''.join(s_letters[i])\n",
    "        if s_letter.isalnum() == True:\n",
    "            a+=1\n",
    "        if s_letter.isalpha() == True:\n",
    "            b+=1    \n",
    "        if s_letter.isdigit() == True:\n",
    "            c+=1    \n",
    "        if s_letter.islower() == True:\n",
    "            d+=1    \n",
    "        if s_letter.isupper() == True:\n",
    "            e+=1    \n",
    "        \n",
    "    if a > 0:\n",
    "        print('True')\n",
    "    else: print('False')\n",
    "    if b > 0:\n",
    "        print('True')\n",
    "    else: print('False')\n",
    "    if c > 0:\n",
    "        print('True')\n",
    "    else: print('False')\n",
    "    if d > 0:\n",
    "        print('True')\n",
    "    else: print('False')\n",
    "    if e > 0:\n",
    "        print('True')\n",
    "    else: print('False')"
   ]
  },
  {
   "cell_type": "code",
   "execution_count": null,
   "id": "2f2c6972",
   "metadata": {},
   "outputs": [],
   "source": [
    "#HackerRank String 6\n",
    "thickness = int(input()) #This must be an odd number\n",
    "c = 'H'\n",
    "\n",
    "#Top Cone\n",
    "for i in range(thickness):\n",
    "    print((c*i).rjust(thickness-1)+c+(c*i).ljust(thickness-1))\n",
    "\n",
    "#Top Pillars\n",
    "for i in range(thickness+1):\n",
    "    print((c*thickness).center(thickness*2)+(c*thickness).center(thickness*6))\n",
    "\n",
    "#Middle Belt\n",
    "for i in range((thickness+1)//2):\n",
    "    print((c*thickness*5).center(thickness*6))    \n",
    "\n",
    "#Bottom Pillars\n",
    "for i in range(thickness+1):\n",
    "    print((c*thickness).center(thickness*2)+(c*thickness).center(thickness*6))    \n",
    "\n",
    "#Bottom Cone\n",
    "for i in range(thickness):\n",
    "    print(((c*(thickness-i-1)).rjust(thickness)+c+(c*(thickness-i-1)).ljust(thickness)).rjust(thickness*6))"
   ]
  },
  {
   "cell_type": "code",
   "execution_count": null,
   "id": "f62d52e1",
   "metadata": {},
   "outputs": [],
   "source": [
    "#HackerRank String 7 \n",
    "\n",
    "import textwrap\n",
    "\n",
    "def wrap(string, max_width):\n",
    "    \n",
    "    return textwrap.fill(string, max_width)\n",
    "\n",
    "if __name__ == '__main__':\n",
    "    string, max_width = input(), int(input())\n",
    "    result = wrap(string, max_width)\n",
    "    print(result)"
   ]
  },
  {
   "cell_type": "code",
   "execution_count": null,
   "id": "eab46ab8",
   "metadata": {},
   "outputs": [],
   "source": [
    "#HackerRank String 8\n",
    "\n",
    "N, M = map(int,input().split())\n",
    "C= '.|.'\n",
    "D = '-'\n",
    "E= 'WELCOME'\n",
    "j = 1\n",
    "\n",
    "for i in range(N//2): #loop for upper body\n",
    "    print((D*((M//2)-(j+i))).ljust(((M//2)-(j+i)))\n",
    "    +((C*j))\n",
    "    +(D*((M//2)-(j+i))).rjust((M//2)-(j+i)))\n",
    "    j+=2\n",
    "print((D*((M-len(E))//2))+E+(D*((M-len(E))//2))) #central line\n",
    "for i in range(((N//2)-1), -1 , -1): #lower line\n",
    "    j-=2\n",
    "    print((D*((M//2)-(j+i))).ljust(((M//2)-(j+i)))\n",
    "    +((C*j))\n",
    "    +(D*((M//2)-(j+i))).rjust((M//2)-(j+i)))\n",
    "    "
   ]
  },
  {
   "cell_type": "code",
   "execution_count": null,
   "id": "0de2f36e",
   "metadata": {},
   "outputs": [],
   "source": [
    "#HackerRank Introduction to set\n",
    "def average(array):\n",
    "    \n",
    "    total= sum(set((arr)))\n",
    "    average= (total / (len(set(arr))))\n",
    "    return (average)\n",
    "if __name__ == '__main__':\n",
    "    n = int(input())\n",
    "    arr = list(map(int, input().split()))\n",
    "    result = average(arr)\n",
    "    print(result)"
   ]
  },
  {
   "cell_type": "code",
   "execution_count": null,
   "id": "80dc1007",
   "metadata": {},
   "outputs": [],
   "source": [
    "#HackerRank Set difference\n",
    "M = input()\n",
    "a = set(input().split())\n",
    "N = input()\n",
    "b = set(input().split())\n",
    "difference=a.symmetric_difference(b)\n",
    "difference_list=list(map(int, (difference)))\n",
    "list_sorted=sorted(difference_list)\n",
    "for x in list_sorted:\n",
    "    print(x)\n"
   ]
  },
  {
   "cell_type": "code",
   "execution_count": null,
   "id": "2e2a214e",
   "metadata": {},
   "outputs": [],
   "source": [
    "#HackerRank No idea!\n",
    "\n",
    "n = input().split()\n",
    "arr = list(input().split())\n",
    "A = set(input().split())\n",
    "B = set(input().split())\n",
    "happiness= 0\n",
    "for x in arr:\n",
    "    if x in A:\n",
    "        happiness+=1\n",
    "    if  x in B:\n",
    "        happiness-=1\n",
    "print(happiness)"
   ]
  },
  {
   "cell_type": "code",
   "execution_count": null,
   "id": "7f9419a6",
   "metadata": {},
   "outputs": [],
   "source": [
    "#HackerRank Set.add\n",
    "country = set()\n",
    "for i in range(N):\n",
    "    country.add((input()))\n",
    "print(len(country))\n",
    "\n"
   ]
  },
  {
   "cell_type": "code",
   "execution_count": null,
   "id": "8ab6f0a1",
   "metadata": {},
   "outputs": [],
   "source": [
    "#HackerRank Set.discard, pop and remove\n",
    "n = int(input())\n",
    "s = set(map(int, input().split()))\n",
    "n_operation= int(input())\n",
    "for i in range(n_operation):\n",
    "    command=input().split()\n",
    "    if command[0] == \"remove\":\n",
    "        s.remove(int(command[1]))\n",
    "    elif command[0] == \"pop\":\n",
    "        s.pop()\n",
    "    elif command[0] == \"discard\":\n",
    "        s.discard(int(command[1]))\n",
    " \n",
    "print(sum(s))\n",
    "        "
   ]
  },
  {
   "cell_type": "code",
   "execution_count": null,
   "id": "ffeaa22f",
   "metadata": {},
   "outputs": [],
   "source": [
    "#HackerRank Set 1\n",
    "n = input()\n",
    "english_subscriber= set(input().split())\n",
    "b = input()\n",
    "french_subscriber= set(input().split())\n",
    "common_students= english_subscriber.intersection(french_subscriber)\n",
    "common_students.discard(\" \")\n",
    "number_of_students= len(common_students)\n",
    "print(number_of_students)\n"
   ]
  },
  {
   "cell_type": "code",
   "execution_count": null,
   "id": "8ec0b8be",
   "metadata": {},
   "outputs": [],
   "source": [
    "#HackerRank Set 2\n",
    "n = input()\n",
    "english_subscriber= set(input().split())\n",
    "b = input()\n",
    "french_subscriber= set(input().split())\n",
    "english_only = english_subscriber.difference(french_subscriber)\n",
    "english_only.discard(\" \")\n",
    "number_of_students= len(english_only)\n",
    "print(number_of_students)"
   ]
  },
  {
   "cell_type": "code",
   "execution_count": null,
   "id": "572b62d7",
   "metadata": {},
   "outputs": [],
   "source": [
    "#HackerRank Set 3\n",
    "n = input()\n",
    "english_subscriber= set(input().split())\n",
    "b = input()\n",
    "french_subscriber= set(input().split())\n",
    "english_or_french_only = english_subscriber.symmetric_difference(french_subscriber)\n",
    "english_or_french_only.discard(\" \")\n",
    "number_of_students= len(english_or_french_only)\n",
    "print(number_of_students)"
   ]
  },
  {
   "cell_type": "code",
   "execution_count": null,
   "id": "11c20c48",
   "metadata": {},
   "outputs": [],
   "source": [
    "#HackerRank Set Union\n",
    "n = input()\n",
    "english_subscriber= set(input().split())\n",
    "b = input()\n",
    "french_subscriber= set(input().split())\n",
    "newspaper_subscribers = english_subscriber.union(french_subscriber)\n",
    "newspaper_subscribers.discard(\" \")\n",
    "number_of_students= len(newspaper_subscribers)\n",
    "print(number_of_students)"
   ]
  },
  {
   "cell_type": "code",
   "execution_count": null,
   "id": "23df8a3b",
   "metadata": {},
   "outputs": [],
   "source": [
    "#HackerRank Set Mutations\n",
    "\n",
    "A = int(input())\n",
    "set_A = set(map(int, input().split()))\n",
    "number_of_other_sets = int(input())\n",
    "for i in range(number_of_other_sets):\n",
    "    command=input().split()\n",
    "    sets=set(map(int, input().split()))\n",
    "    if command[0] == \"intersection_update\":\n",
    "        set_A.intersection_update((sets))\n",
    "    elif command[0] == \"update\":\n",
    "        set_A.update((sets))\n",
    "    elif command[0] == \"symmetric_difference_update\":\n",
    "        set_A.symmetric_difference_update((sets))\n",
    "    elif command[0] == \"difference_update\":\n",
    "        set_A.difference_update((sets))\n",
    "print(sum(map(int , set_A)))"
   ]
  },
  {
   "cell_type": "code",
   "execution_count": null,
   "id": "ffbee1c3",
   "metadata": {},
   "outputs": [],
   "source": [
    "#HackerRank The Captain's Room\n",
    "K = int(input())\n",
    "room_list= list(map(int , input().split()))\n",
    "b = len(room_list)\n",
    "a = 0\n",
    "ordered_room_list = sorted(room_list)\n",
    "\n",
    "for i in range(1, b-1):\n",
    "    if (ordered_room_list[i-1] != ordered_room_list[i]) and (ordered_room_list[i] != ordered_room_list[i+1]):\n",
    "        a = ordered_room_list[i]\n",
    "    if (i == b-2) and (a == 0):\n",
    "        a = ordered_room_list[i+1]\n",
    "print(a)"
   ]
  },
  {
   "cell_type": "code",
   "execution_count": null,
   "id": "947186a5",
   "metadata": {},
   "outputs": [],
   "source": [
    "#HackerRank Check SubSet\n",
    "\n",
    "Number_of_test = int(input())\n",
    "for i in range(Number_of_test):\n",
    "    Number_of_elements_inA= int(input())\n",
    "    Elements_in_A= set(map(int, input().split()))\n",
    "    Number_of_elements_inB= int(input())\n",
    "    Elements_in_B= set(map(int, input().split()))\n",
    "    if Elements_in_A.issubset(Elements_in_B):\n",
    "        print(\"True\")\n",
    "    else: print(\"False\")\n",
    "    \n",
    "    \n"
   ]
  },
  {
   "cell_type": "code",
   "execution_count": null,
   "id": "3aeae943",
   "metadata": {},
   "outputs": [],
   "source": [
    "#HackerRank Check StrictSuperSet\n",
    "Elements_in_A= set(map(int, input().split()))\n",
    "Number_of_test = int(input())\n",
    "issuperset = 0\n",
    "for i in range(Number_of_test):\n",
    "    Elements_in_B= set(map(int, input().split()))\n",
    "    if (Elements_in_A.issuperset(Elements_in_B) == True):\n",
    "        if Elements_in_A == Elements_in_B:\n",
    "            issuperset = 0\n",
    "        else:\n",
    "            issuperset+=1\n",
    "          \n",
    "    else: issuperset = 0\n",
    "if issuperset == Number_of_test:\n",
    "    print(\"True\")\n",
    "else: print(\"False\")"
   ]
  },
  {
   "cell_type": "code",
   "execution_count": null,
   "id": "d50f4cfe",
   "metadata": {},
   "outputs": [],
   "source": [
    "#HackerRank Collection Counter\n",
    "\n",
    "from collections import Counter\n",
    "X = int(input())\n",
    "shoe_sizes= list(map(int, input().split()))\n",
    "N = int(input())\n",
    "a=0\n",
    "money=0\n",
    "for i in range(N):\n",
    "       Shopper_requests= list(map(int, input().split()))\n",
    "       if Shopper_requests[0] in Counter(shoe_sizes).keys():\n",
    "                a+=1\n",
    "                money+=int(Shopper_requests[1]) \n",
    "                shoe_sizes.remove(Shopper_requests[0])\n",
    "print(money)"
   ]
  },
  {
   "cell_type": "code",
   "execution_count": null,
   "id": "f180105e",
   "metadata": {},
   "outputs": [],
   "source": [
    "#HackerRank Numpy\n",
    "import numpy\n",
    "\n",
    "def arrays(arr):\n",
    "    arr= numpy.array(arr, float)\n",
    "    return arr[::-1]\n",
    "\n",
    "arr = raw_input().strip().split(' ')"
   ]
  },
  {
   "cell_type": "code",
   "execution_count": null,
   "id": "d6224986",
   "metadata": {},
   "outputs": [],
   "source": [
    "#HackerRank Calendar Module\n",
    "import calendar\n",
    "month, day, year = map(int, input().split())\n",
    "Weekday = calendar.weekday(year, month , day)\n",
    "if Weekday==0:\n",
    "    print(\"MONDAY\")\n",
    "elif Weekday==1:\n",
    "    print(\"TUESDAY\")\n",
    "elif Weekday==2:\n",
    "    print(\"WEDNESDAY\")\n",
    "elif Weekday==3:\n",
    "    print(\"THURSDAY\")\n",
    "elif Weekday==4:\n",
    "    print(\"FRIDAY\")\n",
    "elif Weekday==5:\n",
    "    print(\"SATURDAY\")\n",
    "elif Weekday==6:\n",
    "    print(\"SUNDAY\")"
   ]
  },
  {
   "cell_type": "code",
   "execution_count": null,
   "id": "7af368bd",
   "metadata": {},
   "outputs": [],
   "source": []
  },
  {
   "cell_type": "code",
   "execution_count": null,
   "id": "27eb33dd",
   "metadata": {},
   "outputs": [],
   "source": []
  },
  {
   "cell_type": "code",
   "execution_count": null,
   "id": "4fd421df",
   "metadata": {},
   "outputs": [],
   "source": []
  },
  {
   "cell_type": "code",
   "execution_count": null,
   "id": "c5f90458",
   "metadata": {},
   "outputs": [],
   "source": []
  },
  {
   "cell_type": "code",
   "execution_count": null,
   "id": "384a4c5e",
   "metadata": {},
   "outputs": [],
   "source": []
  },
  {
   "cell_type": "code",
   "execution_count": null,
   "id": "7ffec6e0",
   "metadata": {},
   "outputs": [],
   "source": []
  },
  {
   "cell_type": "code",
   "execution_count": null,
   "id": "091994b1",
   "metadata": {},
   "outputs": [],
   "source": []
  },
  {
   "cell_type": "code",
   "execution_count": null,
   "id": "e1bd730a",
   "metadata": {},
   "outputs": [],
   "source": []
  },
  {
   "cell_type": "code",
   "execution_count": null,
   "id": "159e19ce",
   "metadata": {},
   "outputs": [],
   "source": []
  },
  {
   "cell_type": "code",
   "execution_count": null,
   "id": "7859cd3a",
   "metadata": {},
   "outputs": [],
   "source": []
  },
  {
   "cell_type": "code",
   "execution_count": null,
   "id": "7298f7b2",
   "metadata": {},
   "outputs": [],
   "source": []
  },
  {
   "cell_type": "code",
   "execution_count": null,
   "id": "bf2df21e",
   "metadata": {},
   "outputs": [],
   "source": []
  }
 ],
 "metadata": {
  "kernelspec": {
   "display_name": "Python 3",
   "language": "python",
   "name": "python3"
  },
  "language_info": {
   "codemirror_mode": {
    "name": "ipython",
    "version": 3
   },
   "file_extension": ".py",
   "mimetype": "text/x-python",
   "name": "python",
   "nbconvert_exporter": "python",
   "pygments_lexer": "ipython3",
   "version": "3.8.8"
  }
 },
 "nbformat": 4,
 "nbformat_minor": 5
}
